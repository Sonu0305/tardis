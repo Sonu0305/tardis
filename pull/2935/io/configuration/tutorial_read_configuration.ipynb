{
 "cells": [
  {
   "cell_type": "markdown",
   "metadata": {},
   "source": [
    "# Reading a Configuration\n",
    "\n",
    "This notebook demonstrates how TARDIS reads a configuration file or a configuration dictionary and creates an instance of the `Configuration` class."
   ]
  },
  {
   "cell_type": "code",
   "execution_count": 1,
   "metadata": {
    "ExecuteTime": {
     "end_time": "2018-07-18T16:56:52.848130Z",
     "start_time": "2018-07-18T16:56:52.844292Z"
    },
    "execution": {
     "iopub.execute_input": "2025-02-24T13:57:47.393132Z",
     "iopub.status.busy": "2025-02-24T13:57:47.392920Z",
     "iopub.status.idle": "2025-02-24T13:57:49.936440Z",
     "shell.execute_reply": "2025-02-24T13:57:49.935765Z"
    }
   },
   "outputs": [
    {
     "data": {
      "application/vnd.jupyter.widget-view+json": {
       "model_id": "48bbd5ccbe9d491f9209ac00a6f5dc7a",
       "version_major": 2,
       "version_minor": 0
      },
      "text/plain": [
       "Iterations:          0/? [00:00<?, ?it/s]"
      ]
     },
     "metadata": {},
     "output_type": "display_data"
    },
    {
     "data": {
      "application/vnd.jupyter.widget-view+json": {
       "model_id": "a7a0eb6f5ab948b483528b6b062d20b6",
       "version_major": 2,
       "version_minor": 0
      },
      "text/plain": [
       "Packets:             0/? [00:00<?, ?it/s]"
      ]
     },
     "metadata": {},
     "output_type": "display_data"
    }
   ],
   "source": [
    "from tardis.io.configuration.config_reader import Configuration"
   ]
  },
  {
   "cell_type": "markdown",
   "metadata": {},
   "source": [
    "The configuration can be read this way. It will be validated by the json-schema schemas (including filling out default configuration options that had not been specified)."
   ]
  },
  {
   "cell_type": "code",
   "execution_count": 2,
   "metadata": {
    "ExecuteTime": {
     "end_time": "2018-07-18T16:59:08.589550Z",
     "start_time": "2018-07-18T16:59:08.305384Z"
    },
    "execution": {
     "iopub.execute_input": "2025-02-24T13:57:49.979945Z",
     "iopub.status.busy": "2025-02-24T13:57:49.979417Z",
     "iopub.status.idle": "2025-02-24T13:57:50.148978Z",
     "shell.execute_reply": "2025-02-24T13:57:50.148333Z"
    }
   },
   "outputs": [],
   "source": [
    "conf = Configuration.from_yaml('tardis_example.yml')"
   ]
  },
  {
   "cell_type": "markdown",
   "metadata": {},
   "source": [
    "Despite the very simple nature of tardis_example.yml, the output does contain all the default values"
   ]
  },
  {
   "cell_type": "code",
   "execution_count": 3,
   "metadata": {
    "ExecuteTime": {
     "end_time": "2018-07-18T17:02:54.736144Z",
     "start_time": "2018-07-18T17:02:54.729478Z"
    },
    "execution": {
     "iopub.execute_input": "2025-02-24T13:57:50.151940Z",
     "iopub.status.busy": "2025-02-24T13:57:50.151701Z",
     "iopub.status.idle": "2025-02-24T13:57:50.165941Z",
     "shell.execute_reply": "2025-02-24T13:57:50.165419Z"
    }
   },
   "outputs": [
    {
     "data": {
      "text/plain": [
       "{'tardis_config_version': 'v1.0',\n",
       " 'supernova': {'luminosity_requested': <Quantity 1.05927636e+43 erg / s>,\n",
       "  'time_explosion': <Quantity 13. d>,\n",
       "  'luminosity_wavelength_start': <Quantity 0. Angstrom>,\n",
       "  'luminosity_wavelength_end': <Quantity inf Angstrom>},\n",
       " 'atom_data': 'kurucz_cd23_chianti_H_He.h5',\n",
       " 'model': {'structure': {'type': 'specific',\n",
       "   'velocity': {'start': <Quantity 11000. km / s>,\n",
       "    'stop': <Quantity 20000. km / s>,\n",
       "    'num': 20},\n",
       "   'density': {'type': 'branch85_w7',\n",
       "    'w7_time_0': <Quantity 0.00023148 d>,\n",
       "    'w7_rho_0': <Quantity 3.e+29 g / cm3>,\n",
       "    'w7_v_0': <Quantity 1. km / s>}},\n",
       "  'abundances': {'type': 'uniform',\n",
       "   'O': 0.19,\n",
       "   'Mg': 0.03,\n",
       "   'Si': 0.52,\n",
       "   'S': 0.19,\n",
       "   'Ar': 0.04,\n",
       "   'Ca': 0.03,\n",
       "   'model_isotope_time_0': <Quantity 0. s>}},\n",
       " 'plasma': {'disable_electron_scattering': False,\n",
       "  'ionization': 'lte',\n",
       "  'excitation': 'lte',\n",
       "  'radiative_rates_type': 'dilute-blackbody',\n",
       "  'line_interaction_type': 'macroatom',\n",
       "  'initial_t_inner': <Quantity -1. K>,\n",
       "  'initial_t_rad': <Quantity -1. K>,\n",
       "  'disable_line_scattering': False,\n",
       "  'w_epsilon': 1e-10,\n",
       "  'nlte': {'species': [],\n",
       "   'coronal_approximation': False,\n",
       "   'classical_nebular': False},\n",
       "  'continuum_interaction': {'species': [],\n",
       "   'enable_adiabatic_cooling': False,\n",
       "   'enable_two_photon_decay': False},\n",
       "  'helium_treatment': 'none',\n",
       "  'heating_rate_data_file': 'none',\n",
       "  'link_t_rad_t_electron': 0.9,\n",
       "  'nlte_ionization_species': [],\n",
       "  'nlte_excitation_species': [],\n",
       "  'nlte_solver': 'root'},\n",
       " 'montecarlo': {'seed': 23111963,\n",
       "  'no_of_packets': 40000.0,\n",
       "  'iterations': 20,\n",
       "  'nthreads': 1,\n",
       "  'last_no_of_packets': 100000.0,\n",
       "  'no_of_virtual_packets': 10,\n",
       "  'convergence_strategy': {'type': 'damped',\n",
       "   'damping_constant': 1.0,\n",
       "   'threshold': 0.05,\n",
       "   'fraction': 0.8,\n",
       "   'hold_iterations': 3,\n",
       "   't_inner': {'damping_constant': 0.5, 'type': 'damped', 'threshold': 0.05},\n",
       "   'stop_if_converged': False,\n",
       "   'lock_t_inner_cycles': 1,\n",
       "   't_inner_update_exponent': -0.5,\n",
       "   't_rad': {'damping_constant': 1.0, 'threshold': 0.05, 'type': 'damped'},\n",
       "   'w': {'damping_constant': 1.0, 'threshold': 0.05, 'type': 'damped'},\n",
       "   'v_inner_boundary': {'damping_constant': 1.0,\n",
       "    'threshold': 0.05,\n",
       "    'type': 'damped'}},\n",
       "  'virtual_spectrum_spawn_range': {'start': <Quantity 1. Angstrom>,\n",
       "   'end': <Quantity inf Angstrom>},\n",
       "  'enable_full_relativity': False,\n",
       "  'enable_nonhomologous_expansion': False,\n",
       "  'tracking': {'track_rpacket': False, 'initial_array_length': 10},\n",
       "  'debug_packets': False,\n",
       "  'logger_buffer': 1},\n",
       " 'spectrum': {'start': <Quantity 500. Angstrom>,\n",
       "  'stop': <Quantity 20000. Angstrom>,\n",
       "  'num': 10000,\n",
       "  'method': 'virtual',\n",
       "  'integrated': {'points': 1000, 'interpolate_shells': 0, 'compute': 'CPU'},\n",
       "  'virtual': {'tau_russian': 10.0,\n",
       "   'survival_probability': 0.0,\n",
       "   'enable_biasing': False,\n",
       "   'virtual_packet_logging': False}},\n",
       " 'config_dirname': ''}"
      ]
     },
     "execution_count": 3,
     "metadata": {},
     "output_type": "execute_result"
    }
   ],
   "source": [
    "conf"
   ]
  },
  {
   "cell_type": "markdown",
   "metadata": {},
   "source": [
    "Values can either be accessed using `.`:"
   ]
  },
  {
   "cell_type": "code",
   "execution_count": 4,
   "metadata": {
    "execution": {
     "iopub.execute_input": "2025-02-24T13:57:50.168872Z",
     "iopub.status.busy": "2025-02-24T13:57:50.168645Z",
     "iopub.status.idle": "2025-02-24T13:57:50.175981Z",
     "shell.execute_reply": "2025-02-24T13:57:50.175397Z"
    }
   },
   "outputs": [
    {
     "data": {
      "text/latex": [
       "$11000 \\; \\mathrm{\\frac{km}{s}}$"
      ],
      "text/plain": [
       "<Quantity 11000. km / s>"
      ]
     },
     "execution_count": 4,
     "metadata": {},
     "output_type": "execute_result"
    }
   ],
   "source": [
    "conf.model.structure.velocity.start"
   ]
  },
  {
   "cell_type": "markdown",
   "metadata": {},
   "source": [
    "or by treating the configuration as a dictionary:"
   ]
  },
  {
   "cell_type": "code",
   "execution_count": 5,
   "metadata": {
    "execution": {
     "iopub.execute_input": "2025-02-24T13:57:50.178983Z",
     "iopub.status.busy": "2025-02-24T13:57:50.178755Z",
     "iopub.status.idle": "2025-02-24T13:57:50.185268Z",
     "shell.execute_reply": "2025-02-24T13:57:50.184704Z"
    }
   },
   "outputs": [
    {
     "data": {
      "text/plain": [
       "1.0"
      ]
     },
     "execution_count": 5,
     "metadata": {},
     "output_type": "execute_result"
    }
   ],
   "source": [
    "conf['montecarlo']['convergence_strategy']['damping_constant']"
   ]
  },
  {
   "cell_type": "markdown",
   "metadata": {},
   "source": [
    "Similarly to how they are accessed, entries in the configuration can be edited. For example,"
   ]
  },
  {
   "cell_type": "code",
   "execution_count": 6,
   "metadata": {
    "execution": {
     "iopub.execute_input": "2025-02-24T13:57:50.189235Z",
     "iopub.status.busy": "2025-02-24T13:57:50.188241Z",
     "iopub.status.idle": "2025-02-24T13:57:50.192538Z",
     "shell.execute_reply": "2025-02-24T13:57:50.191955Z"
    }
   },
   "outputs": [],
   "source": [
    "conf['montecarlo']['convergence_strategy']['damping_constant'] = 0.3"
   ]
  },
  {
   "cell_type": "markdown",
   "metadata": {},
   "source": [
    "sets that entry of the configuration to 0.3:"
   ]
  },
  {
   "cell_type": "code",
   "execution_count": 7,
   "metadata": {
    "execution": {
     "iopub.execute_input": "2025-02-24T13:57:50.195544Z",
     "iopub.status.busy": "2025-02-24T13:57:50.195296Z",
     "iopub.status.idle": "2025-02-24T13:57:50.201922Z",
     "shell.execute_reply": "2025-02-24T13:57:50.201388Z"
    }
   },
   "outputs": [
    {
     "data": {
      "text/plain": [
       "0.3"
      ]
     },
     "execution_count": 7,
     "metadata": {},
     "output_type": "execute_result"
    }
   ],
   "source": [
    "conf['montecarlo']['convergence_strategy']['damping_constant']"
   ]
  },
  {
   "cell_type": "markdown",
   "metadata": {},
   "source": [
    "This can be done using `.` as well.\n",
    "\n",
    "You can also read a configuration from a dictionary. For example:"
   ]
  },
  {
   "cell_type": "code",
   "execution_count": 8,
   "metadata": {
    "execution": {
     "iopub.execute_input": "2025-02-24T13:57:50.204649Z",
     "iopub.status.busy": "2025-02-24T13:57:50.204394Z",
     "iopub.status.idle": "2025-02-24T13:57:50.211316Z",
     "shell.execute_reply": "2025-02-24T13:57:50.210773Z"
    }
   },
   "outputs": [],
   "source": [
    "from astropy import units as u\n",
    "\n",
    "conf_dict = {'tardis_config_version': 'v1.0',\n",
    " 'supernova': {'luminosity_requested': 1.05e+43 * u.erg / u.s,\n",
    "  'time_explosion': 13 * u.day},\n",
    " 'atom_data': 'kurucz_cd23_chianti_H_He.h5',\n",
    " 'model': {'structure': {'type': 'specific',\n",
    "   'velocity': {'start': 11000. * u.km / u.s,\n",
    "    'stop': 20000. * u.km / u.s,\n",
    "    'num': 20},\n",
    "   'density': {'type': 'branch85_w7'}},\n",
    "  'abundances': {'type': 'uniform',\n",
    "   'O': 0.19,\n",
    "   'Mg': 0.03,\n",
    "   'Si': 0.52,\n",
    "   'S': 0.19,\n",
    "   'Ar': 0.04,\n",
    "   'Ca': 0.03}},\n",
    " 'plasma': {'ionization': 'lte',\n",
    "  'excitation': 'lte',\n",
    "  'radiative_rates_type': 'dilute-blackbody',\n",
    "  'line_interaction_type': 'macroatom',},\n",
    " 'montecarlo': {'seed': 23111963,\n",
    "  'no_of_packets': 40000.0,\n",
    "  'iterations': 20,\n",
    "  'last_no_of_packets': 100000.0,\n",
    "  'no_of_virtual_packets': 10,},\n",
    " 'spectrum': {'start': 500. * u.Angstrom,\n",
    "  'stop': 20000. * u.Angstrom,\n",
    "  'num': 10000,}}"
   ]
  },
  {
   "cell_type": "code",
   "execution_count": 9,
   "metadata": {
    "execution": {
     "iopub.execute_input": "2025-02-24T13:57:50.214252Z",
     "iopub.status.busy": "2025-02-24T13:57:50.214021Z",
     "iopub.status.idle": "2025-02-24T13:57:50.321336Z",
     "shell.execute_reply": "2025-02-24T13:57:50.320712Z"
    }
   },
   "outputs": [
    {
     "data": {
      "text/plain": [
       "{'tardis_config_version': 'v1.0',\n",
       " 'supernova': {'luminosity_requested': <Quantity 1.05e+43 erg / s>,\n",
       "  'time_explosion': <Quantity 13. d>,\n",
       "  'luminosity_wavelength_start': <Quantity 0. Angstrom>,\n",
       "  'luminosity_wavelength_end': <Quantity inf Angstrom>},\n",
       " 'atom_data': 'kurucz_cd23_chianti_H_He.h5',\n",
       " 'model': {'structure': {'type': 'specific',\n",
       "   'velocity': {'start': <Quantity 11000. km / s>,\n",
       "    'stop': <Quantity 20000. km / s>,\n",
       "    'num': 20},\n",
       "   'density': {'type': 'branch85_w7',\n",
       "    'w7_time_0': <Quantity 0.00023148 d>,\n",
       "    'w7_rho_0': <Quantity 3.e+29 g / cm3>,\n",
       "    'w7_v_0': <Quantity 1. km / s>}},\n",
       "  'abundances': {'type': 'uniform',\n",
       "   'O': 0.19,\n",
       "   'Mg': 0.03,\n",
       "   'Si': 0.52,\n",
       "   'S': 0.19,\n",
       "   'Ar': 0.04,\n",
       "   'Ca': 0.03,\n",
       "   'model_isotope_time_0': <Quantity 0. s>}},\n",
       " 'plasma': {'ionization': 'lte',\n",
       "  'excitation': 'lte',\n",
       "  'radiative_rates_type': 'dilute-blackbody',\n",
       "  'line_interaction_type': 'macroatom',\n",
       "  'initial_t_inner': <Quantity -1. K>,\n",
       "  'initial_t_rad': <Quantity -1. K>,\n",
       "  'disable_electron_scattering': False,\n",
       "  'disable_line_scattering': False,\n",
       "  'w_epsilon': 1e-10,\n",
       "  'nlte': {'species': [],\n",
       "   'coronal_approximation': False,\n",
       "   'classical_nebular': False},\n",
       "  'continuum_interaction': {'species': [],\n",
       "   'enable_adiabatic_cooling': False,\n",
       "   'enable_two_photon_decay': False},\n",
       "  'helium_treatment': 'none',\n",
       "  'heating_rate_data_file': 'none',\n",
       "  'link_t_rad_t_electron': 0.9,\n",
       "  'nlte_ionization_species': [],\n",
       "  'nlte_excitation_species': [],\n",
       "  'nlte_solver': 'root'},\n",
       " 'montecarlo': {'seed': 23111963,\n",
       "  'no_of_packets': 40000.0,\n",
       "  'iterations': 20,\n",
       "  'last_no_of_packets': 100000.0,\n",
       "  'no_of_virtual_packets': 10,\n",
       "  'nthreads': 1,\n",
       "  'virtual_spectrum_spawn_range': {'start': <Quantity 1. Angstrom>,\n",
       "   'end': <Quantity inf Angstrom>},\n",
       "  'convergence_strategy': {'type': 'damped',\n",
       "   'stop_if_converged': False,\n",
       "   'fraction': 0.8,\n",
       "   'hold_iterations': 3,\n",
       "   'damping_constant': 1.0,\n",
       "   'threshold': 0.05,\n",
       "   'lock_t_inner_cycles': 1,\n",
       "   't_inner_update_exponent': -0.5,\n",
       "   't_inner': {'damping_constant': 1.0, 'threshold': 0.05, 'type': 'damped'},\n",
       "   't_rad': {'damping_constant': 1.0, 'threshold': 0.05, 'type': 'damped'},\n",
       "   'w': {'damping_constant': 1.0, 'threshold': 0.05, 'type': 'damped'},\n",
       "   'v_inner_boundary': {'damping_constant': 1.0,\n",
       "    'threshold': 0.05,\n",
       "    'type': 'damped'}},\n",
       "  'enable_full_relativity': False,\n",
       "  'enable_nonhomologous_expansion': False,\n",
       "  'tracking': {'track_rpacket': False, 'initial_array_length': 10},\n",
       "  'debug_packets': False,\n",
       "  'logger_buffer': 1},\n",
       " 'spectrum': {'start': <Quantity 500. Angstrom>,\n",
       "  'stop': <Quantity 20000. Angstrom>,\n",
       "  'num': 10000,\n",
       "  'method': 'virtual',\n",
       "  'integrated': {'points': 1000, 'interpolate_shells': 0, 'compute': 'CPU'},\n",
       "  'virtual': {'tau_russian': 10.0,\n",
       "   'survival_probability': 0.0,\n",
       "   'enable_biasing': False,\n",
       "   'virtual_packet_logging': False}},\n",
       " 'config_dirname': ''}"
      ]
     },
     "execution_count": 9,
     "metadata": {},
     "output_type": "execute_result"
    }
   ],
   "source": [
    "conf2 = Configuration.from_config_dict(conf_dict)\n",
    "conf2"
   ]
  },
  {
   "cell_type": "markdown",
   "metadata": {},
   "source": [
    "Notice that the `Configuration` object once again has all the default values filled in.\n",
    "\n",
    "<div class=\"alert alert-info\">\n",
    "\n",
    "Note\n",
    "\n",
    "In most cases, we strongly recommend using a configuration file as opposed to a configuration dictionary.\n",
    "</div>"
   ]
  }
 ],
 "metadata": {
  "kernelspec": {
   "display_name": "Python 3",
   "language": "python",
   "name": "python3"
  },
  "language_info": {
   "codemirror_mode": {
    "name": "ipython",
    "version": 3
   },
   "file_extension": ".py",
   "mimetype": "text/x-python",
   "name": "python",
   "nbconvert_exporter": "python",
   "pygments_lexer": "ipython3",
   "version": "3.12.4"
  },
  "toc": {
   "nav_menu": {},
   "number_sections": true,
   "sideBar": true,
   "skip_h1_title": false,
   "toc_cell": false,
   "toc_position": {},
   "toc_section_display": "block",
   "toc_window_display": false
  },
  "widgets": {
   "application/vnd.jupyter.widget-state+json": {
    "state": {
     "06e08ae5906e4841bd0ea579773a9be3": {
      "model_module": "@jupyter-widgets/controls",
      "model_module_version": "1.5.0",
      "model_name": "HTMLModel",
      "state": {
       "_dom_classes": [],
       "_model_module": "@jupyter-widgets/controls",
       "_model_module_version": "1.5.0",
       "_model_name": "HTMLModel",
       "_view_count": null,
       "_view_module": "@jupyter-widgets/controls",
       "_view_module_version": "1.5.0",
       "_view_name": "HTMLView",
       "description": "",
       "description_tooltip": null,
       "layout": "IPY_MODEL_b6f5c743e88348589bf8580141a56add",
       "placeholder": "​",
       "style": "IPY_MODEL_218f82e34f4f417382f7a45e394458b6",
       "value": "0/? [00:00&lt;?, ?it/s]"
      }
     },
     "1b401a9d731142539fa17f65f8b158fb": {
      "model_module": "@jupyter-widgets/base",
      "model_module_version": "1.2.0",
      "model_name": "LayoutModel",
      "state": {
       "_model_module": "@jupyter-widgets/base",
       "_model_module_version": "1.2.0",
       "_model_name": "LayoutModel",
       "_view_count": null,
       "_view_module": "@jupyter-widgets/base",
       "_view_module_version": "1.2.0",
       "_view_name": "LayoutView",
       "align_content": null,
       "align_items": null,
       "align_self": null,
       "border": null,
       "bottom": null,
       "display": null,
       "flex": null,
       "flex_flow": null,
       "grid_area": null,
       "grid_auto_columns": null,
       "grid_auto_flow": null,
       "grid_auto_rows": null,
       "grid_column": null,
       "grid_gap": null,
       "grid_row": null,
       "grid_template_areas": null,
       "grid_template_columns": null,
       "grid_template_rows": null,
       "height": null,
       "justify_content": null,
       "justify_items": null,
       "left": null,
       "margin": null,
       "max_height": null,
       "max_width": null,
       "min_height": null,
       "min_width": null,
       "object_fit": null,
       "object_position": null,
       "order": null,
       "overflow": null,
       "overflow_x": null,
       "overflow_y": null,
       "padding": null,
       "right": null,
       "top": null,
       "visibility": null,
       "width": "20px"
      }
     },
     "218f82e34f4f417382f7a45e394458b6": {
      "model_module": "@jupyter-widgets/controls",
      "model_module_version": "1.5.0",
      "model_name": "DescriptionStyleModel",
      "state": {
       "_model_module": "@jupyter-widgets/controls",
       "_model_module_version": "1.5.0",
       "_model_name": "DescriptionStyleModel",
       "_view_count": null,
       "_view_module": "@jupyter-widgets/base",
       "_view_module_version": "1.2.0",
       "_view_name": "StyleView",
       "description_width": ""
      }
     },
     "2c0fdde7158e44d89849a60b1ca2258a": {
      "model_module": "@jupyter-widgets/controls",
      "model_module_version": "1.5.0",
      "model_name": "HTMLModel",
      "state": {
       "_dom_classes": [],
       "_model_module": "@jupyter-widgets/controls",
       "_model_module_version": "1.5.0",
       "_model_name": "HTMLModel",
       "_view_count": null,
       "_view_module": "@jupyter-widgets/controls",
       "_view_module_version": "1.5.0",
       "_view_name": "HTMLView",
       "description": "",
       "description_tooltip": null,
       "layout": "IPY_MODEL_ad34d9171cc241519fa4b28c98ecab88",
       "placeholder": "​",
       "style": "IPY_MODEL_fc5092dc776f42888a71bc85e3dec824",
       "value": "Iterations:"
      }
     },
     "48bbd5ccbe9d491f9209ac00a6f5dc7a": {
      "model_module": "@jupyter-widgets/controls",
      "model_module_version": "1.5.0",
      "model_name": "HBoxModel",
      "state": {
       "_dom_classes": [],
       "_model_module": "@jupyter-widgets/controls",
       "_model_module_version": "1.5.0",
       "_model_name": "HBoxModel",
       "_view_count": null,
       "_view_module": "@jupyter-widgets/controls",
       "_view_module_version": "1.5.0",
       "_view_name": "HBoxView",
       "box_style": "",
       "children": [
        "IPY_MODEL_2c0fdde7158e44d89849a60b1ca2258a",
        "IPY_MODEL_ee5e7376b1314418941476b500cc8bf5",
        "IPY_MODEL_06e08ae5906e4841bd0ea579773a9be3"
       ],
       "layout": "IPY_MODEL_63d341d76926479580f934f7616cb727"
      }
     },
     "4f0cc8c6c0ca4ff693a675fe1c9ef131": {
      "model_module": "@jupyter-widgets/base",
      "model_module_version": "1.2.0",
      "model_name": "LayoutModel",
      "state": {
       "_model_module": "@jupyter-widgets/base",
       "_model_module_version": "1.2.0",
       "_model_name": "LayoutModel",
       "_view_count": null,
       "_view_module": "@jupyter-widgets/base",
       "_view_module_version": "1.2.0",
       "_view_name": "LayoutView",
       "align_content": null,
       "align_items": null,
       "align_self": null,
       "border": null,
       "bottom": null,
       "display": null,
       "flex": null,
       "flex_flow": null,
       "grid_area": null,
       "grid_auto_columns": null,
       "grid_auto_flow": null,
       "grid_auto_rows": null,
       "grid_column": null,
       "grid_gap": null,
       "grid_row": null,
       "grid_template_areas": null,
       "grid_template_columns": null,
       "grid_template_rows": null,
       "height": null,
       "justify_content": null,
       "justify_items": null,
       "left": null,
       "margin": null,
       "max_height": null,
       "max_width": null,
       "min_height": null,
       "min_width": null,
       "object_fit": null,
       "object_position": null,
       "order": null,
       "overflow": null,
       "overflow_x": null,
       "overflow_y": null,
       "padding": null,
       "right": null,
       "top": null,
       "visibility": null,
       "width": null
      }
     },
     "5a5bc95e5e954bad87a0f121a0775f17": {
      "model_module": "@jupyter-widgets/controls",
      "model_module_version": "1.5.0",
      "model_name": "DescriptionStyleModel",
      "state": {
       "_model_module": "@jupyter-widgets/controls",
       "_model_module_version": "1.5.0",
       "_model_name": "DescriptionStyleModel",
       "_view_count": null,
       "_view_module": "@jupyter-widgets/base",
       "_view_module_version": "1.2.0",
       "_view_name": "StyleView",
       "description_width": ""
      }
     },
     "63d341d76926479580f934f7616cb727": {
      "model_module": "@jupyter-widgets/base",
      "model_module_version": "1.2.0",
      "model_name": "LayoutModel",
      "state": {
       "_model_module": "@jupyter-widgets/base",
       "_model_module_version": "1.2.0",
       "_model_name": "LayoutModel",
       "_view_count": null,
       "_view_module": "@jupyter-widgets/base",
       "_view_module_version": "1.2.0",
       "_view_name": "LayoutView",
       "align_content": null,
       "align_items": null,
       "align_self": null,
       "border": null,
       "bottom": null,
       "display": null,
       "flex": null,
       "flex_flow": null,
       "grid_area": null,
       "grid_auto_columns": null,
       "grid_auto_flow": null,
       "grid_auto_rows": null,
       "grid_column": null,
       "grid_gap": null,
       "grid_row": null,
       "grid_template_areas": null,
       "grid_template_columns": null,
       "grid_template_rows": null,
       "height": null,
       "justify_content": null,
       "justify_items": null,
       "left": null,
       "margin": null,
       "max_height": null,
       "max_width": null,
       "min_height": null,
       "min_width": null,
       "object_fit": null,
       "object_position": null,
       "order": null,
       "overflow": null,
       "overflow_x": null,
       "overflow_y": null,
       "padding": null,
       "right": null,
       "top": null,
       "visibility": null,
       "width": null
      }
     },
     "7f01d02ec5a0446191715bfd4870cf89": {
      "model_module": "@jupyter-widgets/base",
      "model_module_version": "1.2.0",
      "model_name": "LayoutModel",
      "state": {
       "_model_module": "@jupyter-widgets/base",
       "_model_module_version": "1.2.0",
       "_model_name": "LayoutModel",
       "_view_count": null,
       "_view_module": "@jupyter-widgets/base",
       "_view_module_version": "1.2.0",
       "_view_name": "LayoutView",
       "align_content": null,
       "align_items": null,
       "align_self": null,
       "border": null,
       "bottom": null,
       "display": null,
       "flex": null,
       "flex_flow": null,
       "grid_area": null,
       "grid_auto_columns": null,
       "grid_auto_flow": null,
       "grid_auto_rows": null,
       "grid_column": null,
       "grid_gap": null,
       "grid_row": null,
       "grid_template_areas": null,
       "grid_template_columns": null,
       "grid_template_rows": null,
       "height": null,
       "justify_content": null,
       "justify_items": null,
       "left": null,
       "margin": null,
       "max_height": null,
       "max_width": null,
       "min_height": null,
       "min_width": null,
       "object_fit": null,
       "object_position": null,
       "order": null,
       "overflow": null,
       "overflow_x": null,
       "overflow_y": null,
       "padding": null,
       "right": null,
       "top": null,
       "visibility": null,
       "width": null
      }
     },
     "88f3bf42799a40178e2a88df046c9d58": {
      "model_module": "@jupyter-widgets/controls",
      "model_module_version": "1.5.0",
      "model_name": "ProgressStyleModel",
      "state": {
       "_model_module": "@jupyter-widgets/controls",
       "_model_module_version": "1.5.0",
       "_model_name": "ProgressStyleModel",
       "_view_count": null,
       "_view_module": "@jupyter-widgets/base",
       "_view_module_version": "1.2.0",
       "_view_name": "StyleView",
       "bar_color": null,
       "description_width": ""
      }
     },
     "89ebd84492984338a55195d969f4d446": {
      "model_module": "@jupyter-widgets/controls",
      "model_module_version": "1.5.0",
      "model_name": "FloatProgressModel",
      "state": {
       "_dom_classes": [],
       "_model_module": "@jupyter-widgets/controls",
       "_model_module_version": "1.5.0",
       "_model_name": "FloatProgressModel",
       "_view_count": null,
       "_view_module": "@jupyter-widgets/controls",
       "_view_module_version": "1.5.0",
       "_view_name": "ProgressView",
       "bar_style": "info",
       "description": "",
       "description_tooltip": null,
       "layout": "IPY_MODEL_dd1f933228ba44da9d47bad75d093c2e",
       "max": 1.0,
       "min": 0.0,
       "orientation": "horizontal",
       "style": "IPY_MODEL_88f3bf42799a40178e2a88df046c9d58",
       "value": 0.0
      }
     },
     "a7a0eb6f5ab948b483528b6b062d20b6": {
      "model_module": "@jupyter-widgets/controls",
      "model_module_version": "1.5.0",
      "model_name": "HBoxModel",
      "state": {
       "_dom_classes": [],
       "_model_module": "@jupyter-widgets/controls",
       "_model_module_version": "1.5.0",
       "_model_name": "HBoxModel",
       "_view_count": null,
       "_view_module": "@jupyter-widgets/controls",
       "_view_module_version": "1.5.0",
       "_view_name": "HBoxView",
       "box_style": "",
       "children": [
        "IPY_MODEL_b7fab3fd415141a8b722f7a33464912d",
        "IPY_MODEL_89ebd84492984338a55195d969f4d446",
        "IPY_MODEL_b75d94a67cb54f018e756af7c7d6d56d"
       ],
       "layout": "IPY_MODEL_7f01d02ec5a0446191715bfd4870cf89"
      }
     },
     "ad34d9171cc241519fa4b28c98ecab88": {
      "model_module": "@jupyter-widgets/base",
      "model_module_version": "1.2.0",
      "model_name": "LayoutModel",
      "state": {
       "_model_module": "@jupyter-widgets/base",
       "_model_module_version": "1.2.0",
       "_model_name": "LayoutModel",
       "_view_count": null,
       "_view_module": "@jupyter-widgets/base",
       "_view_module_version": "1.2.0",
       "_view_name": "LayoutView",
       "align_content": null,
       "align_items": null,
       "align_self": null,
       "border": null,
       "bottom": null,
       "display": null,
       "flex": null,
       "flex_flow": null,
       "grid_area": null,
       "grid_auto_columns": null,
       "grid_auto_flow": null,
       "grid_auto_rows": null,
       "grid_column": null,
       "grid_gap": null,
       "grid_row": null,
       "grid_template_areas": null,
       "grid_template_columns": null,
       "grid_template_rows": null,
       "height": null,
       "justify_content": null,
       "justify_items": null,
       "left": null,
       "margin": null,
       "max_height": null,
       "max_width": null,
       "min_height": null,
       "min_width": null,
       "object_fit": null,
       "object_position": null,
       "order": null,
       "overflow": null,
       "overflow_x": null,
       "overflow_y": null,
       "padding": null,
       "right": null,
       "top": null,
       "visibility": null,
       "width": null
      }
     },
     "b333e18f0ed54d7aac180a527dc3e669": {
      "model_module": "@jupyter-widgets/controls",
      "model_module_version": "1.5.0",
      "model_name": "ProgressStyleModel",
      "state": {
       "_model_module": "@jupyter-widgets/controls",
       "_model_module_version": "1.5.0",
       "_model_name": "ProgressStyleModel",
       "_view_count": null,
       "_view_module": "@jupyter-widgets/base",
       "_view_module_version": "1.2.0",
       "_view_name": "StyleView",
       "bar_color": null,
       "description_width": ""
      }
     },
     "b6f5c743e88348589bf8580141a56add": {
      "model_module": "@jupyter-widgets/base",
      "model_module_version": "1.2.0",
      "model_name": "LayoutModel",
      "state": {
       "_model_module": "@jupyter-widgets/base",
       "_model_module_version": "1.2.0",
       "_model_name": "LayoutModel",
       "_view_count": null,
       "_view_module": "@jupyter-widgets/base",
       "_view_module_version": "1.2.0",
       "_view_name": "LayoutView",
       "align_content": null,
       "align_items": null,
       "align_self": null,
       "border": null,
       "bottom": null,
       "display": null,
       "flex": null,
       "flex_flow": null,
       "grid_area": null,
       "grid_auto_columns": null,
       "grid_auto_flow": null,
       "grid_auto_rows": null,
       "grid_column": null,
       "grid_gap": null,
       "grid_row": null,
       "grid_template_areas": null,
       "grid_template_columns": null,
       "grid_template_rows": null,
       "height": null,
       "justify_content": null,
       "justify_items": null,
       "left": null,
       "margin": null,
       "max_height": null,
       "max_width": null,
       "min_height": null,
       "min_width": null,
       "object_fit": null,
       "object_position": null,
       "order": null,
       "overflow": null,
       "overflow_x": null,
       "overflow_y": null,
       "padding": null,
       "right": null,
       "top": null,
       "visibility": null,
       "width": null
      }
     },
     "b75d94a67cb54f018e756af7c7d6d56d": {
      "model_module": "@jupyter-widgets/controls",
      "model_module_version": "1.5.0",
      "model_name": "HTMLModel",
      "state": {
       "_dom_classes": [],
       "_model_module": "@jupyter-widgets/controls",
       "_model_module_version": "1.5.0",
       "_model_name": "HTMLModel",
       "_view_count": null,
       "_view_module": "@jupyter-widgets/controls",
       "_view_module_version": "1.5.0",
       "_view_name": "HTMLView",
       "description": "",
       "description_tooltip": null,
       "layout": "IPY_MODEL_4f0cc8c6c0ca4ff693a675fe1c9ef131",
       "placeholder": "​",
       "style": "IPY_MODEL_5a5bc95e5e954bad87a0f121a0775f17",
       "value": "0/? [00:00&lt;?, ?it/s]"
      }
     },
     "b7fab3fd415141a8b722f7a33464912d": {
      "model_module": "@jupyter-widgets/controls",
      "model_module_version": "1.5.0",
      "model_name": "HTMLModel",
      "state": {
       "_dom_classes": [],
       "_model_module": "@jupyter-widgets/controls",
       "_model_module_version": "1.5.0",
       "_model_name": "HTMLModel",
       "_view_count": null,
       "_view_module": "@jupyter-widgets/controls",
       "_view_module_version": "1.5.0",
       "_view_name": "HTMLView",
       "description": "",
       "description_tooltip": null,
       "layout": "IPY_MODEL_d5be24aa36c84395a04c206c2f0801be",
       "placeholder": "​",
       "style": "IPY_MODEL_d63b94de18034bda8efdc59d8a2adc16",
       "value": "Packets:   "
      }
     },
     "d5be24aa36c84395a04c206c2f0801be": {
      "model_module": "@jupyter-widgets/base",
      "model_module_version": "1.2.0",
      "model_name": "LayoutModel",
      "state": {
       "_model_module": "@jupyter-widgets/base",
       "_model_module_version": "1.2.0",
       "_model_name": "LayoutModel",
       "_view_count": null,
       "_view_module": "@jupyter-widgets/base",
       "_view_module_version": "1.2.0",
       "_view_name": "LayoutView",
       "align_content": null,
       "align_items": null,
       "align_self": null,
       "border": null,
       "bottom": null,
       "display": null,
       "flex": null,
       "flex_flow": null,
       "grid_area": null,
       "grid_auto_columns": null,
       "grid_auto_flow": null,
       "grid_auto_rows": null,
       "grid_column": null,
       "grid_gap": null,
       "grid_row": null,
       "grid_template_areas": null,
       "grid_template_columns": null,
       "grid_template_rows": null,
       "height": null,
       "justify_content": null,
       "justify_items": null,
       "left": null,
       "margin": null,
       "max_height": null,
       "max_width": null,
       "min_height": null,
       "min_width": null,
       "object_fit": null,
       "object_position": null,
       "order": null,
       "overflow": null,
       "overflow_x": null,
       "overflow_y": null,
       "padding": null,
       "right": null,
       "top": null,
       "visibility": null,
       "width": null
      }
     },
     "d63b94de18034bda8efdc59d8a2adc16": {
      "model_module": "@jupyter-widgets/controls",
      "model_module_version": "1.5.0",
      "model_name": "DescriptionStyleModel",
      "state": {
       "_model_module": "@jupyter-widgets/controls",
       "_model_module_version": "1.5.0",
       "_model_name": "DescriptionStyleModel",
       "_view_count": null,
       "_view_module": "@jupyter-widgets/base",
       "_view_module_version": "1.2.0",
       "_view_name": "StyleView",
       "description_width": ""
      }
     },
     "dd1f933228ba44da9d47bad75d093c2e": {
      "model_module": "@jupyter-widgets/base",
      "model_module_version": "1.2.0",
      "model_name": "LayoutModel",
      "state": {
       "_model_module": "@jupyter-widgets/base",
       "_model_module_version": "1.2.0",
       "_model_name": "LayoutModel",
       "_view_count": null,
       "_view_module": "@jupyter-widgets/base",
       "_view_module_version": "1.2.0",
       "_view_name": "LayoutView",
       "align_content": null,
       "align_items": null,
       "align_self": null,
       "border": null,
       "bottom": null,
       "display": null,
       "flex": null,
       "flex_flow": null,
       "grid_area": null,
       "grid_auto_columns": null,
       "grid_auto_flow": null,
       "grid_auto_rows": null,
       "grid_column": null,
       "grid_gap": null,
       "grid_row": null,
       "grid_template_areas": null,
       "grid_template_columns": null,
       "grid_template_rows": null,
       "height": null,
       "justify_content": null,
       "justify_items": null,
       "left": null,
       "margin": null,
       "max_height": null,
       "max_width": null,
       "min_height": null,
       "min_width": null,
       "object_fit": null,
       "object_position": null,
       "order": null,
       "overflow": null,
       "overflow_x": null,
       "overflow_y": null,
       "padding": null,
       "right": null,
       "top": null,
       "visibility": null,
       "width": "20px"
      }
     },
     "ee5e7376b1314418941476b500cc8bf5": {
      "model_module": "@jupyter-widgets/controls",
      "model_module_version": "1.5.0",
      "model_name": "FloatProgressModel",
      "state": {
       "_dom_classes": [],
       "_model_module": "@jupyter-widgets/controls",
       "_model_module_version": "1.5.0",
       "_model_name": "FloatProgressModel",
       "_view_count": null,
       "_view_module": "@jupyter-widgets/controls",
       "_view_module_version": "1.5.0",
       "_view_name": "ProgressView",
       "bar_style": "info",
       "description": "",
       "description_tooltip": null,
       "layout": "IPY_MODEL_1b401a9d731142539fa17f65f8b158fb",
       "max": 1.0,
       "min": 0.0,
       "orientation": "horizontal",
       "style": "IPY_MODEL_b333e18f0ed54d7aac180a527dc3e669",
       "value": 0.0
      }
     },
     "fc5092dc776f42888a71bc85e3dec824": {
      "model_module": "@jupyter-widgets/controls",
      "model_module_version": "1.5.0",
      "model_name": "DescriptionStyleModel",
      "state": {
       "_model_module": "@jupyter-widgets/controls",
       "_model_module_version": "1.5.0",
       "_model_name": "DescriptionStyleModel",
       "_view_count": null,
       "_view_module": "@jupyter-widgets/base",
       "_view_module_version": "1.2.0",
       "_view_name": "StyleView",
       "description_width": ""
      }
     }
    },
    "version_major": 2,
    "version_minor": 0
   }
  }
 },
 "nbformat": 4,
 "nbformat_minor": 1
}
