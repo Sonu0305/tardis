{
 "cells": [
  {
   "cell_type": "code",
   "execution_count": 1,
   "metadata": {},
   "outputs": [
    {
     "data": {
      "application/vnd.jupyter.widget-view+json": {
       "model_id": "3e762641a1a649f98ccda32a5b1f649c",
       "version_major": 2,
       "version_minor": 0
      },
      "text/plain": [
       "Iterations:          0/? [00:00<?, ?it/s]"
      ]
     },
     "metadata": {},
     "output_type": "display_data"
    },
    {
     "data": {
      "application/vnd.jupyter.widget-view+json": {
       "model_id": "b0ca7e3449414394bf0fcf5231aad6d9",
       "version_major": 2,
       "version_minor": 0
      },
      "text/plain": [
       "Packets:             0/? [00:00<?, ?it/s]"
      ]
     },
     "metadata": {},
     "output_type": "display_data"
    }
   ],
   "source": [
    "from tardis.workflows import tardis_he_workflow\n",
    "from tardis.io.configuration import config_reader\n",
    "import astropy.units as u\n",
    "from tardis.io.atom_data import AtomData\n",
    "from tardis.io.atom_data import download_atom_data"
   ]
  },
  {
   "cell_type": "code",
   "execution_count": 2,
   "metadata": {},
   "outputs": [
    {
     "name": "stderr",
     "output_type": "stream",
     "text": [
      "WARNING:tardis.io.atom_data.atom_web_download:Atomic Data kurucz_cd23_chianti_H_He already exists in /home/duttaan2/Downloads/tardis-data/kurucz_cd23_chianti_H_He.h5. Will not download - override with force_download=True.\n",
      "INFO:tardis.io.atom_data.base:Reading Atom Data with: UUID = 6f7b09e887a311e7a06b246e96350010 MD5  = 864f1753714343c41f99cb065710cace \n",
      "INFO:tardis.io.atom_data.base:Non provided Atomic Data: synpp_refs, photoionization_data, yg_data, two_photon_data, linelist_atoms, linelist_molecules\n"
     ]
    }
   ],
   "source": [
    "download_atom_data('kurucz_cd23_chianti_H_He')\n",
    "atom_data_file = 'kurucz_cd23_chianti_H_He.h5'\n",
    "atom_data = AtomData.from_hdf(atom_data_file)"
   ]
  },
  {
   "cell_type": "code",
   "execution_count": 3,
   "metadata": {},
   "outputs": [],
   "source": [
    "config = config_reader.Configuration.from_yaml(\"../tardis/io/configuration/tests/data/tardis_configv1_density_exponential_nebular.yml\")\n",
    "config.supernova.time_explosion = 2.0 * u.day"
   ]
  },
  {
   "cell_type": "code",
   "execution_count": 4,
   "metadata": {},
   "outputs": [
    {
     "name": "stderr",
     "output_type": "stream",
     "text": [
      "WARNING:tardis.io.model.parse_density_configuration:Number of density points larger than number of shells. Assuming inner point irrelevant\n",
      "INFO:tardis.model.matter.decay:Decaying abundances for 172800.0 seconds\n",
      "INFO:tardis.model.matter.decay:Decaying abundances for 172800.0 seconds\n"
     ]
    }
   ],
   "source": [
    "workflow = tardis_he_workflow.TARDISHEWorkflow(atom_data, config)"
   ]
  },
  {
   "cell_type": "code",
   "execution_count": 5,
   "metadata": {},
   "outputs": [],
   "source": [
    "time_start = 2.0\n",
    "time_end = 5.0\n",
    "number_of_packets = 100000\n",
    "time_steps = 20\n",
    "time_space = 'log'\n",
    "seed = 1\n",
    "fp = 0\n",
    "spectrum_bins = 500\n",
    "grey_opacity=-1"
   ]
  },
  {
   "cell_type": "code",
   "execution_count": 6,
   "metadata": {},
   "outputs": [
    {
     "name": "stderr",
     "output_type": "stream",
     "text": [
      "INFO:tardis.model.matter.decay:Decaying abundances for 8100.904604002368 seconds\n",
      "INFO:tardis.model.matter.decay:Decaying abundances for 8480.676915363169 seconds\n",
      "INFO:tardis.model.matter.decay:Decaying abundances for 8878.253041918273 seconds\n",
      "INFO:tardis.model.matter.decay:Decaying abundances for 9294.46763070752 seconds\n",
      "INFO:tardis.model.matter.decay:Decaying abundances for 9730.194457219919 seconds\n",
      "INFO:tardis.model.matter.decay:Decaying abundances for 10186.348259744984 seconds\n",
      "INFO:tardis.model.matter.decay:Decaying abundances for 10663.886659718 seconds\n",
      "INFO:tardis.model.matter.decay:Decaying abundances for 11163.812172092283 seconds\n",
      "INFO:tardis.model.matter.decay:Decaying abundances for 11687.174309957529 seconds\n",
      "INFO:tardis.model.matter.decay:Decaying abundances for 12235.071787823945 seconds\n",
      "INFO:tardis.model.matter.decay:Decaying abundances for 12808.654828195911 seconds\n",
      "INFO:tardis.model.matter.decay:Decaying abundances for 13409.127576279321 seconds\n",
      "INFO:tardis.model.matter.decay:Decaying abundances for 14037.750627890095 seconds\n",
      "INFO:tardis.model.matter.decay:Decaying abundances for 14695.843675872196 seconds\n",
      "INFO:tardis.model.matter.decay:Decaying abundances for 15384.788280580357 seconds\n",
      "INFO:tardis.model.matter.decay:Decaying abundances for 16106.030770243331 seconds\n",
      "INFO:tardis.model.matter.decay:Decaying abundances for 16861.085277296883 seconds\n",
      "INFO:tardis.model.matter.decay:Decaying abundances for 17651.536917061614 seconds\n",
      "INFO:tardis.model.matter.decay:Decaying abundances for 18479.04511543621 seconds\n",
      "INFO:tardis.model.matter.decay:Decaying abundances for 19345.347092596094 seconds\n",
      "INFO:tardis.energy_input.main_gamma_ray_loop:Total energy in gamma-rays is 1.5213954755851723e+48\n",
      "INFO:tardis.energy_input.main_gamma_ray_loop:Energy per packet is 1.5213954755851722e+43\n",
      "INFO:tardis.energy_input.main_gamma_ray_loop:Creating packets\n",
      "INFO:tardis.energy_input.main_gamma_ray_loop:Creating packet list\n",
      "INFO:tardis.energy_input.main_gamma_ray_loop:Total energy deposited by the positrons is 3.684176770748935e+45\n",
      "INFO:tardis.energy_input.main_gamma_ray_loop:Entering the main gamma-ray loop\n",
      "INFO:tardis.energy_input.main_gamma_ray_loop:Total CMF energy is 1.5213954755864064e+48\n",
      "INFO:tardis.energy_input.main_gamma_ray_loop:Total RF energy is 1.5227099808404753e+48\n",
      "/home/duttaan2/Software/tardis/tardis/energy_input/gamma_packet_loop.py:198: NumbaPerformanceWarning: \u001b[1m\u001b[1m\u001b[1m\u001b[1mnp.dot() is faster on contiguous arrays, called on (Array(float64, 1, 'C', False, aligned=True), Array(float64, 1, 'A', False, aligned=True))\u001b[0m\u001b[0m\u001b[0m\u001b[0m\n",
      "  ) = distance_trace(\n",
      "/home/duttaan2/Software/tardis/tardis/energy_input/gamma_packet_loop.py:234: NumbaPerformanceWarning: \u001b[1m\u001b[1m\u001b[1m\u001b[1m\u001b[1mnp.dot() is faster on contiguous arrays, called on (Array(float64, 1, 'A', False, aligned=True), Array(float64, 1, 'C', False, aligned=True))\u001b[0m\u001b[0m\u001b[0m\u001b[0m\u001b[0m\n",
      "  packet, ejecta_energy_gained = process_packet_path(packet)\n",
      "/home/duttaan2/miniforge3/envs/tardis/lib/python3.11/site-packages/numba/core/ir_utils.py:2149: NumbaPendingDeprecationWarning: \u001b[1m\n",
      "Encountered the use of a type that is scheduled for deprecation: type 'reflected list' found for argument 'packets' of function 'gamma_packet_loop'.\n",
      "\n",
      "For more information visit https://numba.readthedocs.io/en/stable/reference/deprecation.html#deprecation-of-reflection-for-list-and-set-types\n",
      "\u001b[1m\n",
      "File \"../tardis/energy_input/gamma_packet_loop.py\", line 33:\u001b[0m\n",
      "\u001b[1m@njit(**njit_dict_no_parallel)\n",
      "\u001b[1mdef gamma_packet_loop(\n",
      "\u001b[0m\u001b[1m^\u001b[0m\u001b[0m\n",
      "\u001b[0m\n",
      "  warnings.warn(NumbaPendingDeprecationWarning(msg, loc=loc))\n",
      "INFO:tardis.energy_input.main_gamma_ray_loop:Total energy deposited by gamma rays and positrons is 1.4276571577976577e+48\n"
     ]
    },
    {
     "name": "stdout",
     "output_type": "stream",
     "text": [
      "Entering gamma ray loop for 100000 packets\n",
      "Number of escaped packets: 5814\n",
      "Number of scattered packets: 2569\n"
     ]
    }
   ],
   "source": [
    "workflow.run(time_start, time_end, number_of_packets,\n",
    "            time_steps, time_space, seed, fp, spectrum_bins)"
   ]
  },
  {
   "cell_type": "code",
   "execution_count": 7,
   "metadata": {},
   "outputs": [],
   "source": [
    "escape_energy = workflow.escape_energy"
   ]
  },
  {
   "cell_type": "code",
   "execution_count": null,
   "metadata": {},
   "outputs": [],
   "source": []
  }
 ],
 "metadata": {
  "kernelspec": {
   "display_name": "tardis",
   "language": "python",
   "name": "python3"
  },
  "language_info": {
   "codemirror_mode": {
    "name": "ipython",
    "version": 3
   },
   "file_extension": ".py",
   "mimetype": "text/x-python",
   "name": "python",
   "nbconvert_exporter": "python",
   "pygments_lexer": "ipython3",
   "version": "3.11.5"
  }
 },
 "nbformat": 4,
 "nbformat_minor": 2
}
